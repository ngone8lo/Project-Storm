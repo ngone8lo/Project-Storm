{
 "cells": [
  {
   "cell_type": "markdown",
   "metadata": {},
   "source": [
    "# Introduction to Data\n",
    "The dataset, which was scraped from Weather Underground's hurricane archives, provides detailed information on all 175 Atlantic storms between 2010 to date (2020). (Weather Underground). In fact, the website has severe weather data that goes back to 1851 and spans multiple basins such as Pacific Ocean and Indian Ocean. However, we decided to focus on the Atlantic Ocean basin between 2010 and 2020. We derived a new dataset from the initial dataset scrapped from Weather Underground hurricane archives. The initial attributes are: date, time, lat(titude), lon(gitude), wind (mph), pressure(mb), storm type, sates (start date - end date), and maximum strength. The final dataset contains some extra attributes that were derived from the initial ones."
   ]
  },
  {
   "cell_type": "markdown",
   "metadata": {},
   "source": [
    "# Data Description\n",
    "#### Shape of Dataset: 26 attributes and 10448 tuples\n",
    "#### Attributes Description\n",
    "- NameYear: The name and year of storm. It acts as the identifier of the storm since two storms from the same year cannot share the same name. Storms may share the same if they happened in different years though. \n",
    "- Time: Timestamp in UNIX time calculated using the date and time of the initial dataset.\n",
    "- Lon, Lat: Current location of storm.\n",
    "- Wind (mph): Current wind in mph.\n",
    "- Pressure: Current pressure of the storm in mb.\n",
    "- Durationdays: Duration of the storm in days. It was calculated from the initial dataset's dates.\n",
    "- Season: Summer, Autumn, Winter or Spring.\n",
    "- Storm Type: Type/Category of storm.\n",
    "- MaxStrength: Maximum type/category the storm has reached over its course.\n",
    "- StartTime, StartLat, StartLon, StartWind, StartPressure, StartStormType: time, location, wind, pressure and storm type at which storm started.\n",
    "- EndTime\tEndLat\tEndLon\tEndWind\tEndPressure\tEndStormType: time, location, wind, pressure and storm type at which storm ended.\n",
    "- MinWind, MaxWind: Minimum and minimum wind of the storm over its course.\n",
    "- MinPressure\tMaxPressure: Minimum and minimum pressure of the storm over its course.\n",
    "\n",
    "The dataset is relatively clean with very few NA values (only 23 NA values for StormType and 83 for EndStormType)."
   ]
  },
  {
   "cell_type": "markdown",
   "metadata": {},
   "source": [
    "# References"
   ]
  },
  {
   "cell_type": "markdown",
   "metadata": {},
   "source": [
    "Weather Underground. (n.d.). Hurricane and Tropical Cyclones. Retrieved July 17, 2020, from https://www.wunderground.com/hurricane/archive <br>\n",
    "Stages of Development from disturbance to hurricane. (n.d.). Retrieved July 18, 2020, from http://ww2010.atmos.uiuc.edu/(Gh)/guides/mtr/hurr/stages.rxml"
   ]
  },
  {
   "cell_type": "markdown",
   "metadata": {},
   "source": [
    "# Appendices"
   ]
  },
  {
   "cell_type": "markdown",
   "metadata": {},
   "source": [
    "## Generating Extra Columns"
   ]
  },
  {
   "cell_type": "code",
   "execution_count": 1,
   "metadata": {},
   "outputs": [],
   "source": [
    "import pandas as pd"
   ]
  },
  {
   "cell_type": "code",
   "execution_count": 2,
   "metadata": {},
   "outputs": [
    {
     "data": {
      "text/html": [
       "<div>\n",
       "<style scoped>\n",
       "    .dataframe tbody tr th:only-of-type {\n",
       "        vertical-align: middle;\n",
       "    }\n",
       "\n",
       "    .dataframe tbody tr th {\n",
       "        vertical-align: top;\n",
       "    }\n",
       "\n",
       "    .dataframe thead th {\n",
       "        text-align: right;\n",
       "    }\n",
       "</style>\n",
       "<table border=\"1\" class=\"dataframe\">\n",
       "  <thead>\n",
       "    <tr style=\"text-align: right;\">\n",
       "      <th></th>\n",
       "      <th>NameYear</th>\n",
       "      <th>Time</th>\n",
       "      <th>Lat</th>\n",
       "      <th>Lon</th>\n",
       "      <th>Wind</th>\n",
       "      <th>Pressure</th>\n",
       "      <th>DurationDays</th>\n",
       "      <th>Season</th>\n",
       "      <th>StormType</th>\n",
       "      <th>MaxStrength</th>\n",
       "    </tr>\n",
       "  </thead>\n",
       "  <tbody>\n",
       "    <tr>\n",
       "      <th>0</th>\n",
       "      <td>Alex_2010</td>\n",
       "      <td>1277402400</td>\n",
       "      <td>15.90</td>\n",
       "      <td>-82.000</td>\n",
       "      <td>29</td>\n",
       "      <td>1007</td>\n",
       "      <td>9</td>\n",
       "      <td>Summer</td>\n",
       "      <td>Tropical Low</td>\n",
       "      <td>Hurricane</td>\n",
       "    </tr>\n",
       "    <tr>\n",
       "      <th>1</th>\n",
       "      <td>Alex_2010</td>\n",
       "      <td>1277413200</td>\n",
       "      <td>15.95</td>\n",
       "      <td>-82.040</td>\n",
       "      <td>29</td>\n",
       "      <td>1006</td>\n",
       "      <td>9</td>\n",
       "      <td>Summer</td>\n",
       "      <td>Tropical Low</td>\n",
       "      <td>Hurricane</td>\n",
       "    </tr>\n",
       "    <tr>\n",
       "      <th>2</th>\n",
       "      <td>Alex_2010</td>\n",
       "      <td>1277424000</td>\n",
       "      <td>16.00</td>\n",
       "      <td>-82.100</td>\n",
       "      <td>29</td>\n",
       "      <td>1006</td>\n",
       "      <td>9</td>\n",
       "      <td>Summer</td>\n",
       "      <td>Tropical Low</td>\n",
       "      <td>Hurricane</td>\n",
       "    </tr>\n",
       "    <tr>\n",
       "      <th>3</th>\n",
       "      <td>Alex_2010</td>\n",
       "      <td>1277434800</td>\n",
       "      <td>16.05</td>\n",
       "      <td>-82.193</td>\n",
       "      <td>29</td>\n",
       "      <td>1006</td>\n",
       "      <td>9</td>\n",
       "      <td>Summer</td>\n",
       "      <td>Tropical Low</td>\n",
       "      <td>Hurricane</td>\n",
       "    </tr>\n",
       "    <tr>\n",
       "      <th>4</th>\n",
       "      <td>Alex_2010</td>\n",
       "      <td>1277445600</td>\n",
       "      <td>16.10</td>\n",
       "      <td>-82.300</td>\n",
       "      <td>29</td>\n",
       "      <td>1006</td>\n",
       "      <td>9</td>\n",
       "      <td>Summer</td>\n",
       "      <td>Tropical Low</td>\n",
       "      <td>Hurricane</td>\n",
       "    </tr>\n",
       "  </tbody>\n",
       "</table>\n",
       "</div>"
      ],
      "text/plain": [
       "    NameYear        Time    Lat     Lon  Wind  Pressure  DurationDays  Season  \\\n",
       "0  Alex_2010  1277402400  15.90 -82.000    29      1007             9  Summer   \n",
       "1  Alex_2010  1277413200  15.95 -82.040    29      1006             9  Summer   \n",
       "2  Alex_2010  1277424000  16.00 -82.100    29      1006             9  Summer   \n",
       "3  Alex_2010  1277434800  16.05 -82.193    29      1006             9  Summer   \n",
       "4  Alex_2010  1277445600  16.10 -82.300    29      1006             9  Summer   \n",
       "\n",
       "      StormType MaxStrength  \n",
       "0  Tropical Low   Hurricane  \n",
       "1  Tropical Low   Hurricane  \n",
       "2  Tropical Low   Hurricane  \n",
       "3  Tropical Low   Hurricane  \n",
       "4  Tropical Low   Hurricane  "
      ]
     },
     "execution_count": 2,
     "metadata": {},
     "output_type": "execute_result"
    }
   ],
   "source": [
    "df=pd.read_csv('Storm_2010_2020.csv')\n",
    "df.head()"
   ]
  },
  {
   "cell_type": "markdown",
   "metadata": {},
   "source": [
    "#### Getting the start time and end time of each storm"
   ]
  },
  {
   "cell_type": "code",
   "execution_count": 3,
   "metadata": {},
   "outputs": [],
   "source": [
    "df_time=df[['NameYear','Time']]                                       #extracting the columns Time and NameYear\n",
    "df_time_start=df_time.groupby(['NameYear']).min()                     #getting the minimum time of each storm\n",
    "df_time_start.rename(columns={'Time':'StartTime'},inplace=True)       #renaming the column Time to StartTime\n",
    "df_time_end=df_time.groupby(['NameYear']).max()                      #getting the maximum time of each storm\n",
    "df_time_end.rename(columns={'Time':'EndTime'},inplace=True)          #renaming the column Time to EndTime"
   ]
  },
  {
   "cell_type": "markdown",
   "metadata": {},
   "source": [
    "#### Getting the inital longitude, lattitude, wind, pressure, and storm type of each storm"
   ]
  },
  {
   "cell_type": "code",
   "execution_count": 4,
   "metadata": {},
   "outputs": [],
   "source": [
    "InitialStorm=pd.merge(df_time_start, df, left_on=['NameYear','StartTime'], right_on=['NameYear','Time'])\n",
    "InitialStorm.rename(columns={'Lon':'StartLon', 'Lat':'StartLat', 'Wind':'StartWind', 'Pressure':'StartPressure',\n",
    "                             'StormType':'StartStormType'},inplace=True)  #renaming the columns\n",
    "InitialStorm.drop(['Time','DurationDays','Season','MaxStrength'], axis=1, inplace=True)"
   ]
  },
  {
   "cell_type": "markdown",
   "metadata": {},
   "source": [
    "#### Getting the ending longitude, lattitude, wind, pressure, and storm type of each storm"
   ]
  },
  {
   "cell_type": "code",
   "execution_count": 5,
   "metadata": {},
   "outputs": [],
   "source": [
    "EndingStorm=pd.merge(df_time_end, df, left_on=['NameYear','EndTime'], right_on=['NameYear','Time'])\n",
    "EndingStorm.rename(columns={'Lon':'EndLon', 'Lat':'EndLat', 'Wind':'EndWind', 'Pressure':'EndPressure',\n",
    "                            'StormType':'EndStormType'},inplace=True)  #renaming the columns\n",
    "EndingStorm.drop(['Time','DurationDays','Season','MaxStrength'], axis=1, inplace=True)"
   ]
  },
  {
   "cell_type": "markdown",
   "metadata": {},
   "source": [
    "#### Getting the minimum and maximum wind of each storm"
   ]
  },
  {
   "cell_type": "code",
   "execution_count": 6,
   "metadata": {},
   "outputs": [],
   "source": [
    "df_wind=df[['NameYear','Wind']]                                       #extracting the columns Wind and NameYear\n",
    "df_wind_min=df_wind.groupby(['NameYear']).min()                       #getting the minimum Wind of each storm\n",
    "df_wind_min.rename(columns={'Wind':'MinWind'},inplace=True)           #renaming the column Wind to MinWind\n",
    "df_wind_max=df_wind.groupby(['NameYear']).max()                       #getting the maximum Wind of each storm\n",
    "df_wind_max.rename(columns={'Wind':'MaxWind'},inplace=True)           #renaming the column Wind to MaxWind"
   ]
  },
  {
   "cell_type": "markdown",
   "metadata": {},
   "source": [
    "#### Getting the minimum and maximum pressure of each storm"
   ]
  },
  {
   "cell_type": "code",
   "execution_count": 7,
   "metadata": {},
   "outputs": [],
   "source": [
    "df_wind=df[['NameYear','Pressure']]                                           #extracting the columns Pressure and NameYear\n",
    "df_pressure_min=df_wind.groupby(['NameYear']).min()                           #getting the minimum Pressure of each storm\n",
    "df_pressure_min.rename(columns={'Pressure':'MinPressure'},inplace=True)       #renaming the column Pressure to MinPressure\n",
    "df_pressure_max=df_wind.groupby(['NameYear']).max()                           #getting the maximum Pressure of each storm\n",
    "df_pressure_max.rename(columns={'Pressure':'MaxPressure'},inplace=True)       #renaming the column Pressure to MaxPressure"
   ]
  },
  {
   "cell_type": "markdown",
   "metadata": {},
   "source": [
    "#### Merging the initial dataset with the derived sub-datasets to generate the final dataset"
   ]
  },
  {
   "cell_type": "code",
   "execution_count": 8,
   "metadata": {},
   "outputs": [
    {
     "data": {
      "text/html": [
       "<div>\n",
       "<style scoped>\n",
       "    .dataframe tbody tr th:only-of-type {\n",
       "        vertical-align: middle;\n",
       "    }\n",
       "\n",
       "    .dataframe tbody tr th {\n",
       "        vertical-align: top;\n",
       "    }\n",
       "\n",
       "    .dataframe thead th {\n",
       "        text-align: right;\n",
       "    }\n",
       "</style>\n",
       "<table border=\"1\" class=\"dataframe\">\n",
       "  <thead>\n",
       "    <tr style=\"text-align: right;\">\n",
       "      <th></th>\n",
       "      <th>NameYear</th>\n",
       "      <th>Time</th>\n",
       "      <th>Lat</th>\n",
       "      <th>Lon</th>\n",
       "      <th>Wind</th>\n",
       "      <th>Pressure</th>\n",
       "      <th>DurationDays</th>\n",
       "      <th>Season</th>\n",
       "      <th>StormType</th>\n",
       "      <th>MaxStrength</th>\n",
       "      <th>...</th>\n",
       "      <th>EndTime</th>\n",
       "      <th>EndLat</th>\n",
       "      <th>EndLon</th>\n",
       "      <th>EndWind</th>\n",
       "      <th>EndPressure</th>\n",
       "      <th>EndStormType</th>\n",
       "      <th>MinWind</th>\n",
       "      <th>MaxWind</th>\n",
       "      <th>MinPressure</th>\n",
       "      <th>MaxPressure</th>\n",
       "    </tr>\n",
       "  </thead>\n",
       "  <tbody>\n",
       "    <tr>\n",
       "      <th>0</th>\n",
       "      <td>Alex_2010</td>\n",
       "      <td>1277402400</td>\n",
       "      <td>15.90</td>\n",
       "      <td>-82.000</td>\n",
       "      <td>29</td>\n",
       "      <td>1007</td>\n",
       "      <td>9</td>\n",
       "      <td>Summer</td>\n",
       "      <td>Tropical Low</td>\n",
       "      <td>Hurricane</td>\n",
       "      <td>...</td>\n",
       "      <td>1278028800</td>\n",
       "      <td>23.2</td>\n",
       "      <td>-101.9</td>\n",
       "      <td>35</td>\n",
       "      <td>997</td>\n",
       "      <td>Tropical Depression</td>\n",
       "      <td>29</td>\n",
       "      <td>109</td>\n",
       "      <td>946</td>\n",
       "      <td>1007</td>\n",
       "    </tr>\n",
       "    <tr>\n",
       "      <th>1</th>\n",
       "      <td>Alex_2010</td>\n",
       "      <td>1277413200</td>\n",
       "      <td>15.95</td>\n",
       "      <td>-82.040</td>\n",
       "      <td>29</td>\n",
       "      <td>1006</td>\n",
       "      <td>9</td>\n",
       "      <td>Summer</td>\n",
       "      <td>Tropical Low</td>\n",
       "      <td>Hurricane</td>\n",
       "      <td>...</td>\n",
       "      <td>1278028800</td>\n",
       "      <td>23.2</td>\n",
       "      <td>-101.9</td>\n",
       "      <td>35</td>\n",
       "      <td>997</td>\n",
       "      <td>Tropical Depression</td>\n",
       "      <td>29</td>\n",
       "      <td>109</td>\n",
       "      <td>946</td>\n",
       "      <td>1007</td>\n",
       "    </tr>\n",
       "    <tr>\n",
       "      <th>2</th>\n",
       "      <td>Alex_2010</td>\n",
       "      <td>1277424000</td>\n",
       "      <td>16.00</td>\n",
       "      <td>-82.100</td>\n",
       "      <td>29</td>\n",
       "      <td>1006</td>\n",
       "      <td>9</td>\n",
       "      <td>Summer</td>\n",
       "      <td>Tropical Low</td>\n",
       "      <td>Hurricane</td>\n",
       "      <td>...</td>\n",
       "      <td>1278028800</td>\n",
       "      <td>23.2</td>\n",
       "      <td>-101.9</td>\n",
       "      <td>35</td>\n",
       "      <td>997</td>\n",
       "      <td>Tropical Depression</td>\n",
       "      <td>29</td>\n",
       "      <td>109</td>\n",
       "      <td>946</td>\n",
       "      <td>1007</td>\n",
       "    </tr>\n",
       "    <tr>\n",
       "      <th>3</th>\n",
       "      <td>Alex_2010</td>\n",
       "      <td>1277434800</td>\n",
       "      <td>16.05</td>\n",
       "      <td>-82.193</td>\n",
       "      <td>29</td>\n",
       "      <td>1006</td>\n",
       "      <td>9</td>\n",
       "      <td>Summer</td>\n",
       "      <td>Tropical Low</td>\n",
       "      <td>Hurricane</td>\n",
       "      <td>...</td>\n",
       "      <td>1278028800</td>\n",
       "      <td>23.2</td>\n",
       "      <td>-101.9</td>\n",
       "      <td>35</td>\n",
       "      <td>997</td>\n",
       "      <td>Tropical Depression</td>\n",
       "      <td>29</td>\n",
       "      <td>109</td>\n",
       "      <td>946</td>\n",
       "      <td>1007</td>\n",
       "    </tr>\n",
       "    <tr>\n",
       "      <th>4</th>\n",
       "      <td>Alex_2010</td>\n",
       "      <td>1277445600</td>\n",
       "      <td>16.10</td>\n",
       "      <td>-82.300</td>\n",
       "      <td>29</td>\n",
       "      <td>1006</td>\n",
       "      <td>9</td>\n",
       "      <td>Summer</td>\n",
       "      <td>Tropical Low</td>\n",
       "      <td>Hurricane</td>\n",
       "      <td>...</td>\n",
       "      <td>1278028800</td>\n",
       "      <td>23.2</td>\n",
       "      <td>-101.9</td>\n",
       "      <td>35</td>\n",
       "      <td>997</td>\n",
       "      <td>Tropical Depression</td>\n",
       "      <td>29</td>\n",
       "      <td>109</td>\n",
       "      <td>946</td>\n",
       "      <td>1007</td>\n",
       "    </tr>\n",
       "  </tbody>\n",
       "</table>\n",
       "<p>5 rows × 26 columns</p>\n",
       "</div>"
      ],
      "text/plain": [
       "    NameYear        Time    Lat     Lon  Wind  Pressure  DurationDays  Season  \\\n",
       "0  Alex_2010  1277402400  15.90 -82.000    29      1007             9  Summer   \n",
       "1  Alex_2010  1277413200  15.95 -82.040    29      1006             9  Summer   \n",
       "2  Alex_2010  1277424000  16.00 -82.100    29      1006             9  Summer   \n",
       "3  Alex_2010  1277434800  16.05 -82.193    29      1006             9  Summer   \n",
       "4  Alex_2010  1277445600  16.10 -82.300    29      1006             9  Summer   \n",
       "\n",
       "      StormType MaxStrength  ...     EndTime  EndLat  EndLon  EndWind  \\\n",
       "0  Tropical Low   Hurricane  ...  1278028800    23.2  -101.9       35   \n",
       "1  Tropical Low   Hurricane  ...  1278028800    23.2  -101.9       35   \n",
       "2  Tropical Low   Hurricane  ...  1278028800    23.2  -101.9       35   \n",
       "3  Tropical Low   Hurricane  ...  1278028800    23.2  -101.9       35   \n",
       "4  Tropical Low   Hurricane  ...  1278028800    23.2  -101.9       35   \n",
       "\n",
       "   EndPressure         EndStormType  MinWind  MaxWind  MinPressure  \\\n",
       "0          997  Tropical Depression       29      109          946   \n",
       "1          997  Tropical Depression       29      109          946   \n",
       "2          997  Tropical Depression       29      109          946   \n",
       "3          997  Tropical Depression       29      109          946   \n",
       "4          997  Tropical Depression       29      109          946   \n",
       "\n",
       "   MaxPressure  \n",
       "0         1007  \n",
       "1         1007  \n",
       "2         1007  \n",
       "3         1007  \n",
       "4         1007  \n",
       "\n",
       "[5 rows x 26 columns]"
      ]
     },
     "execution_count": 8,
     "metadata": {},
     "output_type": "execute_result"
    }
   ],
   "source": [
    "StormDataset= pd.merge(pd.merge(pd.merge(pd.merge(pd.merge(pd.merge(df, InitialStorm, on='NameYear'),\n",
    "                                                           EndingStorm, on='NameYear'),\n",
    "                                                  df_wind_min, on='NameYear'),\n",
    "                                         df_wind_max, on='NameYear'),\n",
    "                                df_pressure_min, on='NameYear'),\n",
    "                       df_pressure_max, on='NameYear')\n",
    "StormDataset.head()"
   ]
  },
  {
   "cell_type": "markdown",
   "metadata": {},
   "source": [
    "#### Exporting the final dataset StormDataset"
   ]
  },
  {
   "cell_type": "code",
   "execution_count": 10,
   "metadata": {},
   "outputs": [],
   "source": [
    "StormDataset.to_csv('StormDatasetFinal.csv', index = False)"
   ]
  },
  {
   "cell_type": "markdown",
   "metadata": {},
   "source": [
    "## Data Description"
   ]
  },
  {
   "cell_type": "markdown",
   "metadata": {},
   "source": [
    "#### Shape"
   ]
  },
  {
   "cell_type": "code",
   "execution_count": 11,
   "metadata": {},
   "outputs": [
    {
     "data": {
      "text/plain": [
       "(10448, 26)"
      ]
     },
     "execution_count": 11,
     "metadata": {},
     "output_type": "execute_result"
    }
   ],
   "source": [
    "StormDataset.shape"
   ]
  },
  {
   "cell_type": "markdown",
   "metadata": {},
   "source": [
    "#### Counting the Null values"
   ]
  },
  {
   "cell_type": "code",
   "execution_count": 12,
   "metadata": {},
   "outputs": [
    {
     "data": {
      "text/plain": [
       "NameYear           0\n",
       "Time               0\n",
       "Lat                0\n",
       "Lon                0\n",
       "Wind               0\n",
       "Pressure           0\n",
       "DurationDays       0\n",
       "Season             0\n",
       "StormType         23\n",
       "MaxStrength        0\n",
       "StartTime          0\n",
       "StartLat           0\n",
       "StartLon           0\n",
       "StartWind          0\n",
       "StartPressure      0\n",
       "StartStormType     0\n",
       "EndTime            0\n",
       "EndLat             0\n",
       "EndLon             0\n",
       "EndWind            0\n",
       "EndPressure        0\n",
       "EndStormType      83\n",
       "MinWind            0\n",
       "MaxWind            0\n",
       "MinPressure        0\n",
       "MaxPressure        0\n",
       "dtype: int64"
      ]
     },
     "execution_count": 12,
     "metadata": {},
     "output_type": "execute_result"
    }
   ],
   "source": [
    "StormDataset.isna().sum()"
   ]
  }
 ],
 "metadata": {
  "kernelspec": {
   "display_name": "Python 3",
   "language": "python",
   "name": "python3"
  },
  "language_info": {
   "codemirror_mode": {
    "name": "ipython",
    "version": 3
   },
   "file_extension": ".py",
   "mimetype": "text/x-python",
   "name": "python",
   "nbconvert_exporter": "python",
   "pygments_lexer": "ipython3",
   "version": "3.7.3"
  }
 },
 "nbformat": 4,
 "nbformat_minor": 2
}
